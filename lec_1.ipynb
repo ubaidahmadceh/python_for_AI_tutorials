{
 "cells": [
  {
   "attachments": {},
   "cell_type": "markdown",
   "metadata": {},
   "source": [
    "#### Hi there I am Ubaid, working as a Data Scientist in a private firm and I do teach online. So I can help with your coursework and projects related to Data Science, Machine Learning and Deep Learning"
   ]
  },
  {
   "attachments": {},
   "cell_type": "markdown",
   "metadata": {},
   "source": [
    "## Variables"
   ]
  },
  {
   "cell_type": "code",
   "execution_count": 7,
   "metadata": {},
   "outputs": [
    {
     "name": "stdout",
     "output_type": "stream",
     "text": [
      "<class 'float'>\n"
     ]
    }
   ],
   "source": [
    "# they are just container\n",
    "name = \"Ubaid\" # string \n",
    "my_whatsapp_num = 923484122900 #int\n",
    "weight = 70.5 # float\n",
    "\n",
    "print(type(weight))"
   ]
  },
  {
   "attachments": {},
   "cell_type": "markdown",
   "metadata": {},
   "source": [
    "## f print statement"
   ]
  },
  {
   "cell_type": "code",
   "execution_count": 8,
   "metadata": {},
   "outputs": [
    {
     "name": "stdout",
     "output_type": "stream",
     "text": [
      "Hi there, My name is Ubaid. and my WhatsApp is 923484122900 and my weight is 70.5\n"
     ]
    }
   ],
   "source": [
    "print(f\"Hi there, My name is {name}. and my WhatsApp is {my_whatsapp_num} and my weight is {weight}\")"
   ]
  },
  {
   "attachments": {},
   "cell_type": "markdown",
   "metadata": {},
   "source": [
    "## Taking Input from user"
   ]
  },
  {
   "cell_type": "code",
   "execution_count": 9,
   "metadata": {},
   "outputs": [],
   "source": [
    "name = input(\"What's your name: \")\n",
    "my_whatsapp_num = input(\"What's your WhatsApp: \")\n",
    "weight = input(\"What's your Weight: \")"
   ]
  },
  {
   "cell_type": "code",
   "execution_count": 11,
   "metadata": {},
   "outputs": [
    {
     "name": "stdout",
     "output_type": "stream",
     "text": [
      "Hi there, My name is Ubaid Ahmad. and my WhatsApp is +923484122900 and my weight is 76.0\n"
     ]
    }
   ],
   "source": [
    "print(f\"Hi there, My name is {name}. and my WhatsApp is {my_whatsapp_num} and my weight is {weight}\")"
   ]
  }
 ],
 "metadata": {
  "kernelspec": {
   "display_name": "Python 3",
   "language": "python",
   "name": "python3"
  },
  "language_info": {
   "codemirror_mode": {
    "name": "ipython",
    "version": 3
   },
   "file_extension": ".py",
   "mimetype": "text/x-python",
   "name": "python",
   "nbconvert_exporter": "python",
   "pygments_lexer": "ipython3",
   "version": "3.11.1"
  },
  "orig_nbformat": 4,
  "vscode": {
   "interpreter": {
    "hash": "3531d6784c728bbbadf31c15ef4f64de606a6d39976c442399625038756f4893"
   }
  }
 },
 "nbformat": 4,
 "nbformat_minor": 2
}
