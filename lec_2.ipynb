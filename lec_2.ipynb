{
 "cells": [
  {
   "cell_type": "markdown",
   "metadata": {},
   "source": [
    "#### Hi there I am Ubaid, working as a Data Scientist in a private firm and I do teach online. So I can help with your coursework and projects related to Data Science, Machine Learning and Deep Learning"
   ]
  },
  {
   "attachments": {},
   "cell_type": "markdown",
   "metadata": {},
   "source": [
    "## Data Structures in Python"
   ]
  },
  {
   "attachments": {},
   "cell_type": "markdown",
   "metadata": {},
   "source": [
    "### List"
   ]
  },
  {
   "cell_type": "code",
   "execution_count": 38,
   "metadata": {},
   "outputs": [
    {
     "name": "stdout",
     "output_type": "stream",
     "text": [
      "['mangoes', 'oranges', 'apples']\n",
      "mangoes\n",
      "oranges\n",
      "apples\n",
      "---------------------\n",
      "['mangoes', 'oranges', 'apples']\n",
      "---------------------\n",
      "['mangoes', 'oranges', 'apples', 'gauva']\n",
      "---------------------\n",
      "['mangoes', 'oranges', 'apples']\n",
      "---------------------\n"
     ]
    }
   ],
   "source": [
    "fruit_list = [\"mangoes\", \"oranges\", \"apples\"]\n",
    "print(fruit_list)\n",
    "print(fruit_list[0])\n",
    "print(fruit_list[1])\n",
    "print(fruit_list[2])\n",
    "print(\"---------------------\")\n",
    "\n",
    "# using list() to create a list\n",
    "fruit_list_new = list([\"mangoes\", \"oranges\", \"apples\"])\n",
    "print(fruit_list_new)\n",
    "print(\"---------------------\")\n",
    "\n",
    "# add a new item\n",
    "fruit_list_new.append(\"gauva\")\n",
    "print(fruit_list_new)\n",
    "print(\"---------------------\")\n",
    "\n",
    "# remove an item\n",
    "fruit_list_new.remove(\"gauva\")\n",
    "print(fruit_list_new)\n",
    "print(\"---------------------\")"
   ]
  },
  {
   "attachments": {},
   "cell_type": "markdown",
   "metadata": {},
   "source": [
    "### Tuples"
   ]
  },
  {
   "cell_type": "code",
   "execution_count": 43,
   "metadata": {},
   "outputs": [
    {
     "name": "stdout",
     "output_type": "stream",
     "text": [
      "('mangoes', 'oranges', 'apples')\n",
      "mangoes\n",
      "oranges\n",
      "apples\n",
      "---------------------\n",
      "('mangoes', 'oranges', 'apples')\n",
      "---------------------\n"
     ]
    }
   ],
   "source": [
    "fruit_tuple = (\"mangoes\", \"oranges\", \"apples\")\n",
    "print(fruit_tuple)\n",
    "print(fruit_tuple[0])\n",
    "print(fruit_tuple[1])\n",
    "print(fruit_tuple[2])\n",
    "print(\"---------------------\")\n",
    "\n",
    "# using tuple() to create a tuple\n",
    "fruit_tuple_new = tuple([\"mangoes\", \"oranges\", \"apples\"])\n",
    "print(fruit_tuple_new)\n",
    "print(\"---------------------\")\n",
    "\n",
    "# it doesn't support append\n",
    "# fruit_tuple_new.append(\"gauva\")\n",
    "# print(fruit_list_new)\n",
    "# print(\"---------------------\")\n",
    "\n",
    "# it doesn't support remove\n",
    "# fruit_tuple_new.remove(\"apples\")\n",
    "# print(fruit_tuple_new)\n",
    "# print(\"---------------------\")"
   ]
  },
  {
   "attachments": {},
   "cell_type": "markdown",
   "metadata": {},
   "source": [
    "### Dictionary"
   ]
  },
  {
   "cell_type": "code",
   "execution_count": 44,
   "metadata": {},
   "outputs": [
    {
     "name": "stdout",
     "output_type": "stream",
     "text": [
      "{'mangoes': 5, 'oranges': 10, 'apples': 15}\n",
      "------------------\n",
      "{'mangoes': 5, 'oranges': 10, 'apples': 15}\n",
      "------------------\n",
      "5\n",
      "10\n",
      "15\n",
      "------------------\n",
      "dict_keys(['mangoes', 'oranges', 'apples'])\n",
      "------------------\n",
      "{'mangoes': 5, 'oranges': 10, 'apples': 15, 'gauva': 20}\n",
      "{'mangoes': 5, 'oranges': 10, 'apples': 15}\n"
     ]
    }
   ],
   "source": [
    "fruit_dict = {\n",
    "    \"mangoes\" : 5,\n",
    "    \"oranges\" : 10,\n",
    "    \"apples\" : 15\n",
    "}\n",
    "print(fruit_dict)\n",
    "print(\"------------------\")\n",
    "\n",
    "# using dict() to create dictionary\n",
    "fruit_dict = dict({\"mangoes\" : 5, \"oranges\" : 10, \"apples\" : 15})\n",
    "print(fruit_dict)\n",
    "print(\"------------------\")\n",
    "\n",
    "# accessing values\n",
    "print(fruit_dict[\"mangoes\"])\n",
    "print(fruit_dict[\"oranges\"])\n",
    "print(fruit_dict[\"apples\"])\n",
    "print(\"------------------\")\n",
    "\n",
    "# accessing keys\n",
    "print(fruit_dict.keys())\n",
    "print(\"------------------\")\n",
    "\n",
    "# add a new key value pair\n",
    "fruit_dict[\"gauva\"] = 20\n",
    "print(fruit_dict)\n",
    "\n",
    "# remove a key value pair\n",
    "fruit_dict.pop(\"gauva\")\n",
    "print(fruit_dict)\n"
   ]
  },
  {
   "attachments": {},
   "cell_type": "markdown",
   "metadata": {},
   "source": [
    "### Set"
   ]
  },
  {
   "cell_type": "code",
   "execution_count": 48,
   "metadata": {},
   "outputs": [
    {
     "name": "stdout",
     "output_type": "stream",
     "text": [
      "{'apples', 'mangoes', 'oranges'}\n",
      "{'apples', 'mangoes', 'oranges'}\n",
      "---------------------\n",
      "{8, 10, 15}\n"
     ]
    }
   ],
   "source": [
    "fruit_set = {\"mangoes\", \"oranges\", \"apples\", \"apples\"}\n",
    "print(fruit_set)\n",
    "\n",
    "# it doesn't support indexing\n",
    "# print(fruit_set[0])\n",
    "# print(fruit_set[1])\n",
    "# print(fruit_set[2])\n",
    "\n",
    "# using set() to create a set\n",
    "fruit_set_new = set([\"mangoes\", \"oranges\", \"apples\"])\n",
    "print(fruit_set_new)\n",
    "print(\"---------------------\")\n",
    "\n",
    "# it doesn't support append\n",
    "# fruit_set_new.append(\"gauva\")\n",
    "# print(fruit_set_new)\n",
    "# print(\"---------------------\")\n",
    "\n",
    "# fruit_set_new.remove(\"apples\")\n",
    "# print(fruit_set_new)\n",
    "# print(\"---------------------\")\n",
    "\n",
    "# it orders things automatically\n",
    "num_set = {15, 8, 10, 10}\n",
    "print(num_set)"
   ]
  }
 ],
 "metadata": {
  "kernelspec": {
   "display_name": "Python 3",
   "language": "python",
   "name": "python3"
  },
  "language_info": {
   "codemirror_mode": {
    "name": "ipython",
    "version": 3
   },
   "file_extension": ".py",
   "mimetype": "text/x-python",
   "name": "python",
   "nbconvert_exporter": "python",
   "pygments_lexer": "ipython3",
   "version": "3.11.1"
  },
  "orig_nbformat": 4,
  "vscode": {
   "interpreter": {
    "hash": "3531d6784c728bbbadf31c15ef4f64de606a6d39976c442399625038756f4893"
   }
  }
 },
 "nbformat": 4,
 "nbformat_minor": 2
}
