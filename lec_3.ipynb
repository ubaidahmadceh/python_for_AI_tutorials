{
 "cells": [
  {
   "cell_type": "markdown",
   "metadata": {},
   "source": [
    "#### Hi there I am Ubaid, working as a Data Scientist in a private firm and I do teach online. So I can help with your coursework and projects related to Data Science, Machine Learning and Deep Learning"
   ]
  },
  {
   "attachments": {},
   "cell_type": "markdown",
   "metadata": {},
   "source": [
    "## Control Flow in Python"
   ]
  },
  {
   "attachments": {},
   "cell_type": "markdown",
   "metadata": {},
   "source": [
    "### if, elif, else statements"
   ]
  },
  {
   "cell_type": "code",
   "execution_count": 19,
   "metadata": {},
   "outputs": [
    {
     "name": "stdout",
     "output_type": "stream",
     "text": [
      "wait for a year!\n"
     ]
    }
   ],
   "source": [
    "age = 17\n",
    "\n",
    "if age > 18:\n",
    "    print(\"You can drink! but try to be in limits :)\")\n",
    "elif age == 17:\n",
    "    print(\"wait for a year!\")\n",
    "else:\n",
    "    print(\"No drinking!!!\") "
   ]
  },
  {
   "attachments": {},
   "cell_type": "markdown",
   "metadata": {},
   "source": [
    "### for loop"
   ]
  },
  {
   "cell_type": "code",
   "execution_count": 25,
   "metadata": {},
   "outputs": [
    {
     "name": "stdout",
     "output_type": "stream",
     "text": [
      "UBprogrammer\n",
      "UBprogrammer\n",
      "UBprogrammer\n",
      "UBprogrammer\n",
      "UBprogrammer\n"
     ]
    }
   ],
   "source": [
    "for channel_name in range(5):\n",
    "    print(\"UBprogrammer\")"
   ]
  },
  {
   "attachments": {},
   "cell_type": "markdown",
   "metadata": {},
   "source": [
    "### while loop"
   ]
  },
  {
   "cell_type": "code",
   "execution_count": 26,
   "metadata": {},
   "outputs": [
    {
     "name": "stdout",
     "output_type": "stream",
     "text": [
      "UBprogrammer\n",
      "UBprogrammer\n",
      "UBprogrammer\n",
      "UBprogrammer\n",
      "UBprogrammer\n"
     ]
    }
   ],
   "source": [
    "print_counter = 0\n",
    "\n",
    "while print_counter < 5:\n",
    "    print(\"UBprogrammer\")\n",
    "    print_counter += 1"
   ]
  },
  {
   "attachments": {},
   "cell_type": "markdown",
   "metadata": {},
   "source": [
    "### break "
   ]
  },
  {
   "cell_type": "code",
   "execution_count": 29,
   "metadata": {},
   "outputs": [
    {
     "name": "stdout",
     "output_type": "stream",
     "text": [
      "UBprogrammer\n",
      "UBprogrammer\n",
      "UBprogrammer\n",
      "I am out of loop\n"
     ]
    }
   ],
   "source": [
    "for channel_name in range(5):\n",
    "    if channel_name == 3:\n",
    "        break\n",
    "    print(\"UBprogrammer\") \n",
    "\n",
    "print(\"I am out of loop\")"
   ]
  },
  {
   "attachments": {},
   "cell_type": "markdown",
   "metadata": {},
   "source": [
    "### continue "
   ]
  },
  {
   "cell_type": "code",
   "execution_count": 30,
   "metadata": {},
   "outputs": [
    {
     "name": "stdout",
     "output_type": "stream",
     "text": [
      "UBprogrammer\n",
      "UBprogrammer\n",
      "UBprogrammer\n",
      "UBprogrammer\n"
     ]
    }
   ],
   "source": [
    "for channel_name in range(5):\n",
    "    if channel_name == 2:\n",
    "        # when the continue will be executed, it will not allow to execution print(\"UBprogrammer\")\n",
    "        continue\n",
    "    print(\"UBprogrammer\") "
   ]
  },
  {
   "attachments": {},
   "cell_type": "markdown",
   "metadata": {},
   "source": [
    "### zip"
   ]
  },
  {
   "cell_type": "code",
   "execution_count": 31,
   "metadata": {},
   "outputs": [
    {
     "name": "stdout",
     "output_type": "stream",
     "text": [
      "[('mangoes', 5), ('oranges', 10), ('apples', 15)]\n",
      "('mangoes', 5)\n",
      "('oranges', 10)\n",
      "('apples', 15)\n"
     ]
    }
   ],
   "source": [
    "fruit_list = [\"mangoes\", \"oranges\", \"apples\"]\n",
    "fruit_quantity = [5, 10, 15]\n",
    "\n",
    "# zip will make element wise pairs from both list\n",
    "pairs = list(zip(fruit_list, fruit_quantity))\n",
    "\n",
    "print(pairs)\n",
    "print(pairs[0])\n",
    "print(pairs[1])\n",
    "print(pairs[2])"
   ]
  },
  {
   "attachments": {},
   "cell_type": "markdown",
   "metadata": {},
   "source": [
    "### enumerate"
   ]
  },
  {
   "cell_type": "code",
   "execution_count": 33,
   "metadata": {},
   "outputs": [
    {
     "name": "stdout",
     "output_type": "stream",
     "text": [
      "[(0, 'mangoes'), (1, 'oranges'), (2, 'apples')]\n",
      "(0, 'mangoes')\n",
      "(1, 'oranges')\n",
      "(2, 'apples')\n"
     ]
    }
   ],
   "source": [
    "fruit_list = [\"mangoes\", \"oranges\", \"apples\"]\n",
    "\n",
    "# enumerate will attach an index value to every element in list\n",
    "fruit_list_with_indexes = list(enumerate(fruit_list))\n",
    "\n",
    "print(fruit_list_with_indexes)\n",
    "print(fruit_list_with_indexes[0])\n",
    "print(fruit_list_with_indexes[1])\n",
    "print(fruit_list_with_indexes[2])\n"
   ]
  },
  {
   "cell_type": "code",
   "execution_count": 34,
   "metadata": {},
   "outputs": [
    {
     "name": "stdout",
     "output_type": "stream",
     "text": [
      "UBprogrammer\n",
      "UBprogrammer\n",
      "I is 2 now!!!\n",
      "UBprogrammer\n",
      "UBprogrammer\n",
      "UBprogrammer\n",
      "------------------------\n",
      "UBprogrammer\n",
      "UBprogrammer\n",
      "I is 2 now!!!\n",
      "UBprogrammer\n",
      "UBprogrammer\n",
      "UBprogrammer\n"
     ]
    }
   ],
   "source": [
    "# use of enumerate: let's say we want to print something when i becomes 2 in a loop\n",
    "# increment counter variable in loop approach\n",
    "counter = 0\n",
    "for i in range(5):\n",
    "    if i == 2:\n",
    "        print(\"I is 2 now!!!\")\n",
    "    print(\"UBprogrammer\")\n",
    "    counter += 1\n",
    "\n",
    "print(\"------------------------\")\n",
    "# enumerate works on iterable objects, so that's why weare using list(range(5))\n",
    "for index, element_in_list in enumerate(list(range(5))):\n",
    "    if index == 2:\n",
    "        print(\"I is 2 now!!!\")\n",
    "    print(\"UBprogrammer\")\n"
   ]
  },
  {
   "attachments": {},
   "cell_type": "markdown",
   "metadata": {},
   "source": [
    "### list comprehensions"
   ]
  },
  {
   "cell_type": "code",
   "execution_count": 35,
   "metadata": {},
   "outputs": [
    {
     "name": "stdout",
     "output_type": "stream",
     "text": [
      "[4, 16, 36, 64]\n"
     ]
    }
   ],
   "source": [
    "numbers_list = [2, 4, 6, 8]\n",
    "\n",
    "squared_numbers_list = [num**2 for num in numbers_list]\n",
    "print(squared_numbers_list)"
   ]
  },
  {
   "cell_type": "code",
   "execution_count": 36,
   "metadata": {},
   "outputs": [
    {
     "name": "stdout",
     "output_type": "stream",
     "text": [
      "[4, 16, 36, 64]\n"
     ]
    }
   ],
   "source": [
    "# the traditional approeach to this same thing by for loop is: (it's long so better to uselist comprehensions)\n",
    "numbers_list = [2, 4, 6, 8]\n",
    "squared_numbers_list = []\n",
    "\n",
    "for i in numbers_list:\n",
    "    squared_numbers_list.append(i**2)\n",
    "\n",
    "print(squared_numbers_list)"
   ]
  }
 ],
 "metadata": {
  "kernelspec": {
   "display_name": "Python 3",
   "language": "python",
   "name": "python3"
  },
  "language_info": {
   "codemirror_mode": {
    "name": "ipython",
    "version": 3
   },
   "file_extension": ".py",
   "mimetype": "text/x-python",
   "name": "python",
   "nbconvert_exporter": "python",
   "pygments_lexer": "ipython3",
   "version": "3.11.1"
  },
  "orig_nbformat": 4,
  "vscode": {
   "interpreter": {
    "hash": "3531d6784c728bbbadf31c15ef4f64de606a6d39976c442399625038756f4893"
   }
  }
 },
 "nbformat": 4,
 "nbformat_minor": 2
}
